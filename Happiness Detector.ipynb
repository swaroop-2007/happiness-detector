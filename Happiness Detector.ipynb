{
 "cells": [
  {
   "cell_type": "code",
   "execution_count": 9,
   "id": "productive-depression",
   "metadata": {},
   "outputs": [],
   "source": [
    "#Loading libraries\n",
    "import cv2"
   ]
  },
  {
   "cell_type": "code",
   "execution_count": 10,
   "id": "enhanced-shirt",
   "metadata": {},
   "outputs": [],
   "source": [
    "#Loading Cascades\n",
    "face_cascade = cv2.CascadeClassifier('haarcascade_frontalface_default.xml')\n",
    "eye_cascade = cv2.CascadeClassifier('haarcascade_eye.xml')\n",
    "smile_cascade = cv2.CascadeClassifier('haarcascade_smile.xml')"
   ]
  },
  {
   "cell_type": "code",
   "execution_count": 11,
   "id": "noble-employer",
   "metadata": {},
   "outputs": [],
   "source": [
    "#Defining the function for detection\n",
    "def detection(gray, window):\n",
    "    faces = face_cascade.detectMultiScale(gray, 1.3, 5)  #Detecting faces\n",
    "    for (x,y,w,h) in faces:\n",
    "        cv2.rectangle(window, (x, y), (x+w, y+h), (0, 255, 0), 2)\n",
    "        r_gray = gray[y:y+h, x:x+w]  #To detect eyes we are getting a zone of interest in BnW\n",
    "        r_color = window[y:y+h, x:x+w]  ##To detect eyes we are getting a zone of interest in Colored img\n",
    "        eyes = eye_cascade.detectMultiScale(r_gray, 1.1, 22)  #Detecting eyes\n",
    "        for (ex,ey,ew,eh) in eyes:\n",
    "            cv2.rectangle(r_color, (ex, ey), (ex+ew, ey+eh), (0, 0, 255), 2)\n",
    "        smiles = smile_cascade.detectMultiScale(r_gray, 1.7, 22)  #Detecting smile\n",
    "        for (sx,sy,sw,sh) in smiles:\n",
    "            cv2.rectangle(r_color, (sx, sy), (sx+sw, sy+sh), (255, 0, 0), 2)\n",
    "    \n",
    "    return window"
   ]
  },
  {
   "cell_type": "code",
   "execution_count": 12,
   "id": "generous-craps",
   "metadata": {},
   "outputs": [],
   "source": [
    "#Starting webcam\n",
    "video_cap = cv2.VideoCapture(0)\n",
    "while True:\n",
    "    _, frame = video_cap.read()  #Getting the last frame of webcam\n",
    "    gray = cv2.cvtColor(frame, cv2.COLOR_BGR2GRAY)  #Converting the image to gray\n",
    "    result = detection(gray, frame)\n",
    "    cv2.imshow('Video', result)\n",
    "    if cv2.waitKey(1) & 0xFF == ord('q'):\n",
    "        break\n",
    "\n",
    "video_cap.release()\n",
    "cv2.destroyAllWindows()"
   ]
  }
 ],
 "metadata": {
  "kernelspec": {
   "display_name": "deeplearning",
   "language": "python",
   "name": "deeplearning"
  },
  "language_info": {
   "codemirror_mode": {
    "name": "ipython",
    "version": 3
   },
   "file_extension": ".py",
   "mimetype": "text/x-python",
   "name": "python",
   "nbconvert_exporter": "python",
   "pygments_lexer": "ipython3",
   "version": "3.8.8"
  }
 },
 "nbformat": 4,
 "nbformat_minor": 5
}
